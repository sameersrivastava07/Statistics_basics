{
  "nbformat": 4,
  "nbformat_minor": 0,
  "metadata": {
    "colab": {
      "provenance": []
    },
    "kernelspec": {
      "name": "python3",
      "display_name": "Python 3"
    },
    "language_info": {
      "name": "python"
    }
  },
  "cells": [
    {
      "cell_type": "markdown",
      "source": [
        "#Theoretical Questions and Answers"
      ],
      "metadata": {
        "id": "3VONKqRS1hRk"
      }
    },
    {
      "cell_type": "markdown",
      "source": [
        "Question:1--->> What is statistics, and why is it important?\n",
        "\n",
        "Answer:1-->>>\n",
        "\n",
        "\\---> Statistics is a branch of mathematics that deals with collecting, organizing, analyzing, and interpreting data.\n",
        "\n",
        "\\---> It helps us understand patterns, make decisions, and draw conclusions based on data instead of just guessing.\n",
        "\n",
        "\\--->>> For example, if Sameer wants to know how students at pwskills are performing, he can use statistics to analyze their test scores.\n",
        "\n",
        "\\--> Statistics is important because it is used in almost every field like business, healthcare, government, and education to make smart and informed decisions.\n",
        "\n",
        "\\--->> Overall, statistics helps in simplifying complex data and gives us meaningful insights from it.\n"
      ],
      "metadata": {
        "id": "s_jNg7vA1p1p"
      }
    },
    {
      "cell_type": "markdown",
      "source": [
        "Question:2--->> What are the two main types of statistics?\n",
        "\n",
        "Answer:2-->>>\n",
        "\n",
        "\\---> The two main types of statistics are Descriptive Statistics and Inferential Statistics.\n",
        "\n",
        "\\---> Descriptive statistics is used to summarize and describe the features of a dataset using tools like mean, median, mode, and graphs.\n",
        "\n",
        "\\--->>> For example, if Shweta from pwskills checks the average marks of students in a test, she is using descriptive statistics.\n",
        "\n",
        "\\--> Inferential statistics is used to make predictions or draw conclusions about a larger group based on a sample of data.\n",
        "\n",
        "\\--->> For example, if Sameer wants to guess how all students will perform based on the performance of 50 students, he uses inferential statistics.\n"
      ],
      "metadata": {
        "id": "XJBMsSUy2gQc"
      }
    },
    {
      "cell_type": "markdown",
      "source": [
        "Question:3--->> What are descriptive statistics?\n",
        "\n",
        "Answer:3-->>>\n",
        "\n",
        "Descriptive statistics are the tools that help us to **describe and summarize data** in a simple and clear way.\n",
        "\n",
        "1. It includes numbers like **mean (average), median, mode, range, and standard deviation** that tell us about the overall pattern in the data.\n",
        "\n",
        "2. It also includes **visual tools** like bar graphs, pie charts, and histograms to show the data in pictures.\n",
        "\n",
        "3. For example, if Sameer collects data of daily sales at pwskills store for 30 days, descriptive statistics will help him know the **average sales, highest and lowest sales**, and how much the sales are changing daily.\n",
        "\n",
        "4. It **does not explain causes or make predictions**, it only tells **what the data is showing**.\n",
        "\n",
        "5. It is mostly used in the beginning to **understand and clean the data** before doing further analysis.\n"
      ],
      "metadata": {
        "id": "6mZNEuPb3flu"
      }
    },
    {
      "cell_type": "markdown",
      "source": [
        "Question:4--->> What is inferential statistics?\n",
        "\n",
        "Answer:4-->>>\n",
        "\n",
        "Inferential statistics is the branch of statistics that helps us to **make conclusions or predictions** about a large group (called population) by studying a smaller part of it (called sample).\n",
        "\n",
        "1. It lets us **use data from a small group** to guess or infer information about the whole group.\n",
        "\n",
        "2. It uses methods like **hypothesis testing, confidence intervals, and regression** to check if our guesses are likely true.\n",
        "\n",
        "3. For example, if Sameer surveys 50 students to find out their favorite subject, he can use inferential statistics to **guess the favorite subject of all students** in his school.\n",
        "\n",
        "4. It always has some uncertainty because we are not looking at everyone, just a sample.\n",
        "\n",
        "5. It is helpful when collecting data from everyone is too hard or expensive, so we make smart guesses from the sample.\n"
      ],
      "metadata": {
        "id": "vKttS-Yq4F91"
      }
    },
    {
      "cell_type": "markdown",
      "source": [
        "Question:5--->> What is sampling in statistics?\n",
        "\n",
        "Answer:5-->>>\n",
        "Sampling in statistics means **selecting a smaller group (sample) from a larger group (population)** to study and learn about the whole group.\n",
        "\n",
        "1. It is done because studying the entire population is often too difficult, expensive, or time-consuming.\n",
        "\n",
        "2. The sample should represent the population well, so the results can be trusted.\n",
        "\n",
        "3. For example, if Shweta wants to know the study habits of all students in her college, she might select 100 students as a sample instead of asking everyone.\n",
        "\n",
        "4. Sampling helps us save time and resources while still getting useful information.\n",
        "\n",
        "5. There are different types of sampling methods like **random sampling, systematic sampling, and stratified sampling** to choose samples in different ways.\n"
      ],
      "metadata": {
        "id": "Y4WeDqWu4ig1"
      }
    },
    {
      "cell_type": "markdown",
      "source": [
        "Question:6--->> What are the different types of sampling methods?\n",
        "\n",
        "Answer:6-->>>\n",
        "There are several types of sampling methods used to select samples from a population, each with its own way of choosing members.\n",
        "\n",
        "1. **Random Sampling:** Every member of the population has an equal chance of being selected. For example, Sameer picks names from a hat without looking.\n",
        "\n",
        "2. **Systematic Sampling:** Members are selected at regular intervals from a list. For example, Shweta selects every 5th student on the attendance list.\n",
        "\n",
        "3. **Stratified Sampling:** The population is divided into groups (strata) like age or gender, then samples are taken from each group proportionally. For example, Sameer divides students by class and picks samples from each class.\n",
        "\n",
        "4. **Cluster Sampling:** The population is divided into clusters (like schools or neighborhoods), and some clusters are chosen randomly, then all members of those clusters are studied.\n",
        "\n",
        "5. **Convenience Sampling:** Samples are taken from members who are easiest to reach. For example, Shweta surveys her friends because they are nearby.\n",
        "\n",
        "6. Each method is used depending on the situation and what makes the sample most accurate and easy to collect.\n"
      ],
      "metadata": {
        "id": "cVH3kVJ-46HA"
      }
    },
    {
      "cell_type": "markdown",
      "source": [
        "Question:7--->> What is the difference between random and non-random sampling?\n",
        "\n",
        "Answer:7-->>>\n",
        "Random and non-random sampling are two ways to select samples, but they work differently.\n",
        "\n",
        "1. Random sampling means **every member of the population has an equal chance** of being chosen. It helps to get a fair and unbiased sample. For example, Sameer picks lottery tickets blindly to select students.\n",
        "\n",
        "2. Non-random sampling means the sample is chosen **without giving equal chances** to all members. It can be based on convenience or judgment. For example, Shweta surveys only her friends because they are easy to reach.\n",
        "\n",
        "3. Random sampling is better for making general conclusions because it reduces bias.\n",
        "\n",
        "4. Non-random sampling is easier and faster but may not represent the whole population well.\n",
        "\n",
        "5. In short, random sampling is fair and unbiased, while non-random sampling can be biased and less reliable.\n"
      ],
      "metadata": {
        "id": "aBQTCRXp5BSO"
      }
    },
    {
      "cell_type": "markdown",
      "source": [
        "Question:8--->> Define and give examples of qualitative and quantitative data\n",
        "\n",
        "Answer:8-->>>\n",
        "\n",
        "Qualitative and quantitative data are two types of data used in statistics.\n",
        "\n",
        "1. **Qualitative data** describes qualities or categories. It is non-numerical and tells us about characteristics or labels. For example, Sameer’s favorite color (like red, blue), or types of fruits (apple, mango).\n",
        "\n",
        "2. **Quantitative data** is numerical and can be measured or counted. It tells us about amounts or quantities. For example, Shweta’s marks in exams (like 85, 90) or number of books in a library.\n",
        "\n",
        "3. Qualitative data is about **what kind** or **which type**, while quantitative data is about **how much** or **how many**.\n",
        "\n",
        "4. Both types of data are important for understanding information in different ways.\n"
      ],
      "metadata": {
        "id": "k5sLAep75KYF"
      }
    },
    {
      "cell_type": "markdown",
      "source": [
        "Question:9--->> What are the different types of data in statistics?\n",
        "\n",
        "Answer:9-->>>\n",
        "\n",
        "In statistics, data is mainly divided into two big types: qualitative and quantitative.\n",
        "\n",
        "1. Qualitative data (categorical data) describes qualities or categories. It tells us about groups or types, not numbers. For example, Sameer’s favorite food (pizza, dosa), or types of vehicles (car, bike).\n",
        "\n",
        "2. Quantitative data (numerical data) is numbers that we can measure or count. For example, Shweta’s height in centimeters or the number of students in a class.\n",
        "\n",
        "3. Quantitative data is further divided into two types:\n",
        "\n",
        "1) Discrete data: Countable values, like number of books or number of cars.\n",
        "\n",
        "2) Continuous data: Measurable values that can take any number within a range, like height, weight, or temperature.\n",
        "\n",
        "4. So overall, there are qualitative data, discrete quantitative data, and continuous quantitative data as the main types.\n",
        "\n",
        "5. Knowing the data type helps us choose the right methods to analyze it.\n"
      ],
      "metadata": {
        "id": "kDynunxz5zHs"
      }
    },
    {
      "cell_type": "markdown",
      "source": [
        "Question:10--->> Explain nominal, ordinal, interval, and ratio levels of measurement\n",
        "\n",
        "Answer:10-->>>\n",
        "\n",
        "Levels of measurement tell us how data is measured and classified.\n",
        "\n",
        "1. Nominal level is the simplest, where data is grouped into categories without any order. For example, Sameer’s favorite colors like red, blue, green. We just know they are different groups, but no one is higher or lower.\n",
        "\n",
        "2. Ordinal level shows data in order or rank, but the difference between ranks is not exact. For example, Shweta’s position in a race: 1st, 2nd, 3rd. We know who is first or second, but not by how much they won.\n",
        "\n",
        "3. Interval level has ordered data with equal differences between values, but no true zero. For example, temperature in Celsius or Fahrenheit. Zero doesn’t mean ‘no temperature,’ it’s just a point on the scale.\n",
        "\n",
        "4. Ratio level is like interval, but it has a true zero, meaning zero means nothing of that quantity. For example, weight or height. Zero weight means no weight at all.\n",
        "\n",
        "5. Understanding these levels helps us know what math or statistics we can use on the data.\n"
      ],
      "metadata": {
        "id": "ZzbH9zQV510P"
      }
    },
    {
      "cell_type": "markdown",
      "source": [
        "Question:11--->> What is the measure of central tendency\n",
        "\n",
        "Answer:11-->>>\n",
        "\n",
        "Measure of central tendency is a way to find the middle or center of a data set.\n",
        "\n",
        "1. It helps us understand what a typical or average value looks like in the data.\n",
        "\n",
        "2. The common measures are mean (average), median (middle value), and mode (most frequent value).\n",
        "\n",
        "3. For example, if Sameer has marks in five exams like 70, 75, 80, 85, 90, the mean will give the average marks, the median will show the middle score, and the mode will be the most repeated score (if any).\n",
        "\n",
        "4. These measures help summarize data and make it easier to understand.\n"
      ],
      "metadata": {
        "id": "SrvCN-nt6Zye"
      }
    },
    {
      "cell_type": "markdown",
      "source": [
        "Question:12--->> Define mean, median, and mode\n",
        "\n",
        "Answer:12-->>>\n",
        "\n",
        "Mean, median, and mode are three main measures of central tendency.\n",
        "\n",
        "1. Mean is the average of all the numbers. We add all values and then divide by the number of values. For example, Sameer’s marks 70, 75, 80, the mean is (70+75+80) ÷ 3 = 75.\n",
        "\n",
        "2. Median is the middle value when all numbers are arranged in order. If there is an even number of values, median is the average of the two middle numbers. For example, for Shweta’s marks 60, 70, 80, 90, median is (70+80) ÷ 2 = 75.\n",
        "\n",
        "3. Mode is the value that appears most often. For example, if Sameer’s test scores are 85, 90, 85, 95, the mode is 85 because it appears twice.\n",
        "\n",
        "4. These help us understand data by showing average, middle, and common values.\n"
      ],
      "metadata": {
        "id": "b4m8GrBN6ciS"
      }
    },
    {
      "cell_type": "markdown",
      "source": [
        "Question:13--->> What is the significance of the measure of central tendency\n",
        "\n",
        "Answer:13-->>>\n",
        "\n",
        "Measure of central tendency is important because it helps us summarize and understand data easily.\n",
        "\n",
        "1. It gives a single value that represents the whole data set, making it simple to explain and compare.\n",
        "\n",
        "2. For example, if Sameer wants to know how well students performed in a test, the mean marks can show the overall performance quickly.\n",
        "\n",
        "3. It helps in decision making by providing a typical value that represents the group.\n",
        "\n",
        "4. Central tendency measures also help in identifying trends and patterns in data.\n",
        "\n",
        "5. Without these measures, it would be hard to analyze large amounts of information clearly.\n"
      ],
      "metadata": {
        "id": "1BHVehR67A1-"
      }
    },
    {
      "cell_type": "markdown",
      "source": [
        "Question:14--->> What is variance, and how is it calculated\n",
        "\n",
        "Answer:14-->>>\n",
        "\n",
        "Variance is a measure that shows how much the data values spread out or differ from the average (mean).\n",
        "\n",
        "1. It tells us if the data points are close to the mean or spread far apart.\n",
        "\n",
        "2. To calculate variance, first find the mean of the data.\n",
        "\n",
        "3. Then subtract the mean from each data value to find the difference.\n",
        "\n",
        "4. Square each difference to make them positive.\n",
        "\n",
        "5. Finally, find the average of these squared differences.\n",
        "\n",
        "6. For example, if Sameer has marks 70, 75, and 80, we find mean = 75. Then differences are -5, 0, and 5. Squared differences are 25, 0, and 25. Variance is average of (25 + 0 + 25) = 50 ÷ 3 ≈ 16.67.\n",
        "\n",
        "7. Variance helps us understand the variability or consistency in data.\n"
      ],
      "metadata": {
        "id": "A2kONOum7H1D"
      }
    },
    {
      "cell_type": "markdown",
      "source": [
        "Question:15--->> What is standard deviation, and why is it important\n",
        "\n",
        "Answer:15-->>>\n",
        "\n",
        "Standard deviation is a measure that shows how much the data values vary or spread out from the mean, just like variance.\n",
        "\n",
        "1. It is the square root of the variance, which brings the units back to the original data scale.\n",
        "\n",
        "2. Standard deviation tells us how spread out the data is in the same units as the data itself.\n",
        "\n",
        "3. For example, if Sameer’s test scores have a small standard deviation, it means his scores are close to the average, but a large standard deviation means his scores are very different from the average.\n",
        "\n",
        "4. It is important because it helps us understand the consistency or variability in data, which is useful for comparing different data sets or making predictions.\n",
        "\n",
        "5. Without standard deviation, it is hard to judge how reliable the average or mean value is.\n"
      ],
      "metadata": {
        "id": "7Rxe87Es7PM_"
      }
    },
    {
      "cell_type": "markdown",
      "source": [
        "Question:16--->> Define and explain the term range in statistics\n",
        "\n",
        "Answer:16-->>>\n",
        "\n",
        "Range is the simplest measure of how spread out data is in statistics.\n",
        "\n",
        "1. It is the difference between the highest and lowest values in a data set.\n",
        "\n",
        "2. To calculate range, subtract the smallest value from the largest value.\n",
        "\n",
        "3. For example, if Sameer’s marks are 60, 75, 80, 90, and 95, the range is 95 minus 60, which equals 35.\n",
        "\n",
        "4. Range helps us understand the spread or variation in data but does not tell us about values in between.\n",
        "\n",
        "5. It is easy to calculate but can be affected by extreme values (outliers).\n"
      ],
      "metadata": {
        "id": "45VWhPbR7V1e"
      }
    },
    {
      "cell_type": "markdown",
      "source": [
        "Question:17--->> What is the difference between variance and standard deviation\n",
        "\n",
        "Answer:17-->>>\n",
        "\n",
        "Variance and standard deviation both show how data spreads out, but they are a bit different.\n",
        "\n",
        "1. Variance is the average of the squared differences from the mean. It tells us about the overall spread but is in squared units.\n",
        "\n",
        "2. Standard deviation is the square root of variance. It is in the same units as the original data, so it is easier to understand.\n",
        "\n",
        "3. For example, if Sameer’s test scores have a variance of 16, the standard deviation will be 4 (because 4 × 4 =16).\n",
        "\n",
        "4. Variance gives a measure of spread but can be hard to interpret because of squared units.\n",
        "\n",
        "5. Standard deviation is more commonly used because it shows spread in the same units as the data and is easier to explain.\n"
      ],
      "metadata": {
        "id": "JJjT2JNa7gHw"
      }
    },
    {
      "cell_type": "markdown",
      "source": [
        "Question:18--->> What is skewness in a dataset\n",
        "\n",
        "Answer:18-->>>\n",
        "\n",
        "Skewness tells us about the shape of the data distribution and how it is stretched to one side.\n",
        "\n",
        "1. If data is perfectly balanced, it is called symmetric and skewness is zero.\n",
        "\n",
        "2. When data is stretched more to the right side, it is called positive skewness. For example, Sameer’s income data where most people earn low but a few earn very high.\n",
        "\n",
        "3. When data is stretched more to the left side, it is called negative skewness. For example, Shweta’s test scores where most students score high but few score very low.\n",
        "\n",
        "4. Skewness helps us understand if data is balanced or if there are outliers affecting one side more than the other.\n"
      ],
      "metadata": {
        "id": "aeHyJpem7nhp"
      }
    },
    {
      "cell_type": "markdown",
      "source": [
        "Question:19--->> What does it mean if a dataset is positively or negatively skewed\n",
        "\n",
        "Answer:19-->>>\n",
        "\n",
        "When a dataset is skewed, it means the data is not spread out evenly and is pulled more toward one side.\n",
        "\n",
        "1. Positive skew means the tail of the data is longer on the right side. Most values are on the left, but some very high values stretch the data to the right. For example, Sameer’s income where most people earn less but a few earn a lot more.\n",
        "\n",
        "2. Negative skew means the tail is longer on the left side. Most values are on the right, but some very low values pull the data to the left. For example, Shweta’s test scores where most students have high marks but a few have very low marks.\n",
        "\n",
        "3. Knowing skewness helps us choose the right methods to analyze data and understand if outliers are affecting results.\n"
      ],
      "metadata": {
        "id": "HxMDCOKj7vVx"
      }
    },
    {
      "cell_type": "markdown",
      "source": [
        "Question:20--->> Define and explain kurtosis\n",
        "\n",
        "Answer:20-->>>\n",
        "\n",
        "Kurtosis is a measure that tells us about the shape of the data distribution, especially how heavy or light the tails are compared to a normal distribution.\n",
        "\n",
        "1. It shows whether the data has more extreme values (outliers) or fewer than usual.\n",
        "\n",
        "2. High kurtosis means the data has heavy tails and more outliers. For example, if Sameer’s test scores have many very high or very low values, the kurtosis will be high.\n",
        "\n",
        "3. Low kurtosis means the data has light tails and fewer outliers, meaning data is more evenly spread.\n",
        "\n",
        "4. Kurtosis helps us understand the risk or chance of extreme events in data, which is useful in fields like finance or weather forecasting.\n"
      ],
      "metadata": {
        "id": "ScL_5Jn671kX"
      }
    },
    {
      "cell_type": "markdown",
      "source": [
        "Question:21--->> What is the purpose of covariance\n",
        "\n",
        "Answer:21-->>>\n",
        "\n",
        "Covariance is used to show how two variables change together.\n",
        "\n",
        "1. It tells us whether the two variables increase or decrease at the same time.\n",
        "\n",
        "2. If covariance is positive, it means when one variable goes up, the other also goes up. For example, Sameer notices that when his study hours increase, his test scores also increase.\n",
        "\n",
        "3. If covariance is negative, it means when one variable goes up, the other goes down. For example, Shweta sees that when the temperature rises, the number of hot drinks sold goes down.\n",
        "\n",
        "4. If covariance is zero or close to zero, it means the variables don’t have a clear relationship.\n",
        "\n",
        "5. So, covariance helps us understand the direction of the relationship between two variables.\n"
      ],
      "metadata": {
        "id": "4fuK6xaX79Ye"
      }
    },
    {
      "cell_type": "markdown",
      "source": [
        "Question:22--->> What does correlation measure in statistics\n",
        "\n",
        "Answer:22-->>>\n",
        "\n",
        "Correlation measures how strongly two variables are related to each other.\n",
        "\n",
        "1. It shows both the direction and strength of the relationship.\n",
        "\n",
        "2. The value of correlation ranges from -1 to +1.\n",
        "\n",
        "3. A correlation of +1 means a perfect positive relationship: when one variable increases, the other also increases perfectly. For example, Sameer’s height and weight might have a strong positive correlation.\n",
        "\n",
        "4. A correlation of -1 means a perfect negative relationship: when one variable increases, the other decreases perfectly. For example, Shweta’s time spent watching TV and her test scores might have a strong negative correlation.\n",
        "\n",
        "5. A correlation near 0 means no clear relationship between the variables.\n",
        "\n",
        "6. Correlation helps us understand and predict how one variable might change with another.\n"
      ],
      "metadata": {
        "id": "J3mZCx6H8J7g"
      }
    },
    {
      "cell_type": "markdown",
      "source": [
        "Question:23--->> What is the difference between covariance and correlation\n",
        "\n",
        "Answer:23-->>>\n",
        "\n",
        "Covariance and correlation both show how two variables are related, but they have some differences.\n",
        "\n",
        "1. Covariance shows the direction of the relationship—whether the variables increase or decrease together—but its value depends on the units of the variables, so it can be hard to compare.\n",
        "\n",
        "2. Correlation shows both the direction and the strength of the relationship, and it is standardized between -1 and +1, making it easier to understand and compare.\n",
        "\n",
        "3. For example, Sameer sees that study hours and marks have a positive covariance because both increase together, but correlation tells him how strong this relationship is.\n",
        "\n",
        "4. Correlation is basically a scaled version of covariance that removes units and limits the value range.\n",
        "\n",
        "5. So, covariance tells us if variables move together, but correlation tells us how much and how strongly they move together.\n"
      ],
      "metadata": {
        "id": "JiqP3Wfd8QCJ"
      }
    },
    {
      "cell_type": "markdown",
      "source": [
        "Question:24--->> What are some real-world applications of statistics\n",
        "\n",
        "Answer:24-->>>\n",
        "\n",
        "Statistics is used in many areas of life and work to help us make decisions and understand information.\n",
        "\n",
        "1. In healthcare, statistics help doctors like Sameer understand disease patterns and decide the best treatments.\n",
        "\n",
        "2. In business, companies use statistics to study customer behavior and improve products, like Shweta’s marketing team analyzing sales data.\n",
        "\n",
        "3. In sports, statistics help coaches track players’ performance and plan strategies.\n",
        "\n",
        "4. In government, statistics are used to plan budgets, study population growth, and make policies.\n",
        "\n",
        "5. In weather forecasting, statistics help predict rain, temperature, and other conditions.\n",
        "\n",
        "6. Overall, statistics help us collect, analyze, and interpret data to solve real problems and make smart choices.\n"
      ],
      "metadata": {
        "id": "5ouNZ8MK8Rdr"
      }
    },
    {
      "cell_type": "markdown",
      "source": [
        "#Practical Questions & Answers"
      ],
      "metadata": {
        "id": "KGChuL9H8Ygj"
      }
    },
    {
      "cell_type": "code",
      "source": [
        "# Question:1--->> How do you calculate the mean, median, and mode of a dataset\n",
        "\n",
        "\n",
        "# Answer:1-->>>\n",
        "\n",
        "# Step 1: To calculate mean, add all numbers and divide by total count.\n",
        "# Step 2: To calculate median, sort the data and find the middle value.\n",
        "# Step 3: To calculate mode, find the number that appears most frequently.\n",
        "\n",
        "import statistics\n",
        "\n",
        "data = [70, 85, 70, 90, 95, 85, 70]\n",
        "\n",
        "mean_value = statistics.mean(data)\n",
        "median_value = statistics.median(data)\n",
        "mode_value = statistics.mode(data)\n",
        "\n",
        "print(\"Mean:\", mean_value)\n",
        "print(\"Median:\", median_value)\n",
        "print(\"Mode:\", mode_value)\n"
      ],
      "metadata": {
        "colab": {
          "base_uri": "https://localhost:8080/"
        },
        "id": "SAOF933x8jyo",
        "outputId": "a64d850e-2e03-43a0-f615-b9cdcc4c9aa5"
      },
      "execution_count": null,
      "outputs": [
        {
          "output_type": "stream",
          "name": "stdout",
          "text": [
            "Mean: 80.71428571428571\n",
            "Median: 85\n",
            "Mode: 70\n"
          ]
        }
      ]
    },
    {
      "cell_type": "code",
      "source": [
        "# Question:2--->> Write a Python program to compute the variance and standard deviation of a dataset\n",
        "\n",
        "\n",
        "# Answer:2-->>>\n",
        "\n",
        "# Step 1: Variance measures how spread out the data is from the mean.\n",
        "# Step 2: Standard deviation is the square root of variance, showing average distance from mean.\n",
        "\n",
        "import statistics\n",
        "\n",
        "data = [70, 85, 70, 90, 95, 85, 70]\n",
        "\n",
        "variance_value = statistics.variance(data)\n",
        "std_dev_value = statistics.stdev(data)\n",
        "\n",
        "print(\"Variance:\", variance_value)\n",
        "print(\"Standard Deviation:\", std_dev_value)\n"
      ],
      "metadata": {
        "colab": {
          "base_uri": "https://localhost:8080/"
        },
        "id": "Xqgs_BwV_Sbt",
        "outputId": "5adb6fbe-8808-4b8e-def2-94fe1c7f7388"
      },
      "execution_count": null,
      "outputs": [
        {
          "output_type": "stream",
          "name": "stdout",
          "text": [
            "Variance: 111.9047619047619\n",
            "Standard Deviation: 10.578504710249076\n"
          ]
        }
      ]
    },
    {
      "cell_type": "code",
      "source": [
        "# Question:3--->> Create a dataset and classify it into nominal, ordinal, interval, and ratio types\n",
        "\n",
        "\n",
        "# Answer:3-->>>\n",
        "\n",
        "# Nominal data: Categories without order (like colors)\n",
        "nominal_data = ['Red', 'Blue', 'Green', 'Blue', 'Red']\n",
        "\n",
        "# Ordinal data: Categories with order but no fixed difference (like ratings)\n",
        "ordinal_data = ['Poor', 'Good', 'Excellent', 'Good', 'Poor']\n",
        "\n",
        "# Interval data: Numbers with order and equal differences, but no true zero (like temperature in Celsius)\n",
        "interval_data = [30, 35, 40, 45, 50]\n",
        "\n",
        "# Ratio data: Numbers with order, equal differences, and true zero (like height in cm)\n",
        "ratio_data = [150, 160, 170, 180, 190]\n",
        "\n",
        "print(\"Nominal Data:\", nominal_data)\n",
        "print(\"Ordinal Data:\", ordinal_data)\n",
        "print(\"Interval Data:\", interval_data)\n",
        "print(\"Ratio Data:\", ratio_data)\n"
      ],
      "metadata": {
        "colab": {
          "base_uri": "https://localhost:8080/"
        },
        "id": "9iM4BOaf_a4g",
        "outputId": "dfd5ca66-b298-4f32-9f08-4d8abdc45f84"
      },
      "execution_count": null,
      "outputs": [
        {
          "output_type": "stream",
          "name": "stdout",
          "text": [
            "Nominal Data: ['Red', 'Blue', 'Green', 'Blue', 'Red']\n",
            "Ordinal Data: ['Poor', 'Good', 'Excellent', 'Good', 'Poor']\n",
            "Interval Data: [30, 35, 40, 45, 50]\n",
            "Ratio Data: [150, 160, 170, 180, 190]\n"
          ]
        }
      ]
    },
    {
      "cell_type": "code",
      "source": [
        "# Question:4--->> Implement sampling techniques like random sampling and stratified sampling\n",
        "\n",
        "\n",
        "# Answer:4-->>>\n",
        "\n",
        "import random\n",
        "\n",
        "# Dataset of students with their classes\n",
        "students = [\n",
        "    {'name': 'Sameer', 'class': 'A'},\n",
        "    {'name': 'Shweta', 'class': 'B'},\n",
        "    {'name': 'Raj', 'class': 'A'},\n",
        "    {'name': 'Neha', 'class': 'B'},\n",
        "    {'name': 'Amit', 'class': 'A'},\n",
        "    {'name': 'Sneha', 'class': 'B'},\n",
        "    {'name': 'Ravi', 'class': 'A'},\n",
        "    {'name': 'Priya', 'class': 'B'}\n",
        "]\n",
        "\n",
        "# Random Sampling: randomly pick 3 students\n",
        "random_sample = random.sample(students, 3)\n",
        "print(\"Random Sample:\", random_sample)\n",
        "\n",
        "# Stratified Sampling: sample from each class proportionally\n",
        "# Separate students by class\n",
        "class_A = [s for s in students if s['class'] == 'A']\n",
        "class_B = [s for s in students if s['class'] == 'B']\n",
        "\n",
        "# Sample 2 students from each class\n",
        "sample_A = random.sample(class_A, 2)\n",
        "sample_B = random.sample(class_B, 2)\n",
        "\n",
        "stratified_sample = sample_A + sample_B\n",
        "print(\"Stratified Sample:\", stratified_sample)\n"
      ],
      "metadata": {
        "colab": {
          "base_uri": "https://localhost:8080/"
        },
        "id": "fKIPfcXF_kuO",
        "outputId": "58ce2e9d-5905-4d9a-eda8-331f84d135fe"
      },
      "execution_count": null,
      "outputs": [
        {
          "output_type": "stream",
          "name": "stdout",
          "text": [
            "Random Sample: [{'name': 'Sneha', 'class': 'B'}, {'name': 'Amit', 'class': 'A'}, {'name': 'Priya', 'class': 'B'}]\n",
            "Stratified Sample: [{'name': 'Raj', 'class': 'A'}, {'name': 'Sameer', 'class': 'A'}, {'name': 'Priya', 'class': 'B'}, {'name': 'Sneha', 'class': 'B'}]\n"
          ]
        }
      ]
    },
    {
      "cell_type": "code",
      "source": [
        "# Question:5--->> Write a Python function to calculate the range of a dataset\n",
        "\n",
        "\n",
        "# Answer:5-->>>\n",
        "\n",
        "def calculate_range(data):\n",
        "    # Range = maximum value - minimum value\n",
        "    return max(data) - min(data)\n",
        "\n",
        "data = [70, 85, 70, 90, 95, 85, 70]\n",
        "\n",
        "range_value = calculate_range(data)\n",
        "print(\"Range:\", range_value)"
      ],
      "metadata": {
        "colab": {
          "base_uri": "https://localhost:8080/"
        },
        "id": "tr3gFOPW_s9F",
        "outputId": "6617fd37-35a1-45f1-dbf6-1fe98bee2035"
      },
      "execution_count": null,
      "outputs": [
        {
          "output_type": "stream",
          "name": "stdout",
          "text": [
            "Range: 25\n"
          ]
        }
      ]
    },
    {
      "cell_type": "code",
      "source": [
        "# Question:6--->> Create a dataset and plot its histogram to visualize skewness\n",
        "\n",
        "\n",
        "# Answer:6-->>>\n",
        "\n",
        "import matplotlib.pyplot as plt\n",
        "\n",
        "# Dataset with some skewness (more lower values)\n",
        "data = [10, 12, 15, 15, 18, 20, 25, 30, 40, 100]\n",
        "\n",
        "plt.hist(data, bins=5, color='skyblue', edgecolor='black')\n",
        "plt.title(\"Histogram to show skewness\")\n",
        "plt.xlabel(\"Data values\")\n",
        "plt.ylabel(\"Frequency\")\n",
        "plt.show()\n"
      ],
      "metadata": {
        "colab": {
          "base_uri": "https://localhost:8080/",
          "height": 472
        },
        "id": "cdb6KP-x_4iw",
        "outputId": "707e8084-350f-4ef8-d8bc-d2b01cf9bd9b"
      },
      "execution_count": null,
      "outputs": [
        {
          "output_type": "display_data",
          "data": {
            "text/plain": [
              "<Figure size 640x480 with 1 Axes>"
            ],
            "image/png": "[encoded data removed]"
          },
          "metadata": {}
        }
      ]
    },
    {
      "cell_type": "code",
      "source": [
        "# Question:7--->> Calculate skewness and kurtosis of a dataset using Python libraries\n",
        "\n",
        "\n",
        "# Answer:7-->>>\n",
        "\n",
        "from scipy.stats import skew, kurtosis\n",
        "\n",
        "data = [10, 12, 15, 15, 18, 20, 25, 30, 40, 100]\n",
        "\n",
        "skewness_value = skew(data)\n",
        "kurtosis_value = kurtosis(data)\n",
        "\n",
        "print(\"Skewness:\", skewness_value)\n",
        "print(\"Kurtosis:\", kurtosis_value)\n"
      ],
      "metadata": {
        "colab": {
          "base_uri": "https://localhost:8080/"
        },
        "id": "1tDzzIGYABUa",
        "outputId": "3107cc26-d498-4220-8e0d-6c4034b46b9a"
      },
      "execution_count": null,
      "outputs": [
        {
          "output_type": "stream",
          "name": "stdout",
          "text": [
            "Skewness: 2.1482396145904183\n",
            "Kurtosis: 3.4109649618162656\n"
          ]
        }
      ]
    },
    {
      "cell_type": "code",
      "source": [
        "# Question:8--->> Generate a dataset and demonstrate positive and negative skewness\n",
        "\n",
        "\n",
        "# Answer:8-->>>\n",
        "\n",
        "import matplotlib.pyplot as plt\n",
        "from scipy.stats import skew\n",
        "\n",
        "# Positive skew dataset (tail to right)\n",
        "positive_skew = [1, 2, 2, 3, 4, 5, 10, 15, 20]\n",
        "\n",
        "# Negative skew dataset (tail to left)\n",
        "negative_skew = [20, 18, 15, 10, 5, 4, 3, 2, 1]\n",
        "\n",
        "print(\"Positive skewness value:\", skew(positive_skew))\n",
        "print(\"Negative skewness value:\", skew(negative_skew))\n",
        "\n",
        "plt.figure(figsize=(10,4))\n",
        "\n",
        "plt.subplot(1,2,1)\n",
        "plt.hist(positive_skew, bins=5, color='lightgreen', edgecolor='black')\n",
        "plt.title(\"Positive Skewness\")\n",
        "\n",
        "plt.subplot(1,2,2)\n",
        "plt.hist(negative_skew, bins=5, color='lightcoral', edgecolor='black')\n",
        "plt.title(\"Negative Skewness\")\n",
        "\n",
        "plt.show()\n"
      ],
      "metadata": {
        "colab": {
          "base_uri": "https://localhost:8080/",
          "height": 426
        },
        "id": "Exn2F0dIAIfF",
        "outputId": "717f8acd-fdcb-493e-cffa-bcf6da0abe99"
      },
      "execution_count": null,
      "outputs": [
        {
          "output_type": "stream",
          "name": "stdout",
          "text": [
            "Positive skewness value: 1.018949155277473\n",
            "Negative skewness value: 0.4896926888436915\n"
          ]
        },
        {
          "output_type": "display_data",
          "data": {
            "text/plain": [
              "<Figure size 1000x400 with 2 Axes>"
            ],
            "image/png": "[encoded data removed]"
          },
          "metadata": {}
        }
      ]
    },
    {
      "cell_type": "code",
      "source": [
        "# Question:9--->> Write a Python script to calculate covariance between two datasets\n",
        "\n",
        "\n",
        "# Answer:9-->>>\n",
        "\n",
        "import numpy as np\n",
        "\n",
        "data1 = [10, 20, 30, 40, 50]\n",
        "data2 = [15, 25, 35, 45, 55]\n",
        "\n",
        "cov_matrix = np.cov(data1, data2)\n",
        "covariance = cov_matrix[0, 1]  # covariance between data1 and data2\n",
        "\n",
        "print(\"Covariance:\", covariance)\n"
      ],
      "metadata": {
        "colab": {
          "base_uri": "https://localhost:8080/"
        },
        "id": "JN2d_aMWASKh",
        "outputId": "0e592731-861d-4197-e37d-a29ba9560483"
      },
      "execution_count": null,
      "outputs": [
        {
          "output_type": "stream",
          "name": "stdout",
          "text": [
            "Covariance: 250.0\n"
          ]
        }
      ]
    },
    {
      "cell_type": "code",
      "source": [
        "# Question:10--->> Write a Python script to calculate the correlation coefficient between two datasets\n",
        "\n",
        "\n",
        "# Answer:10-->>>\n",
        "\n",
        "import numpy as np\n",
        "\n",
        "data1 = [10, 20, 30, 40, 50]\n",
        "data2 = [15, 25, 35, 45, 55]\n",
        "\n",
        "correlation_matrix = np.corrcoef(data1, data2)\n",
        "correlation_coefficient = correlation_matrix[0, 1]  # correlation between data1 and data2\n",
        "\n",
        "print(\"Correlation Coefficient:\", correlation_coefficient)\n"
      ],
      "metadata": {
        "colab": {
          "base_uri": "https://localhost:8080/"
        },
        "id": "DRHyqgqZAadE",
        "outputId": "7b8b09d2-5b98-4048-df4b-3e1fd3e265b2"
      },
      "execution_count": null,
      "outputs": [
        {
          "output_type": "stream",
          "name": "stdout",
          "text": [
            "Correlation Coefficient: 1.0\n"
          ]
        }
      ]
    },
    {
      "cell_type": "code",
      "source": [
        "# Question:11--->> Create a scatter plot to visualize the relationship between two variables\n",
        "\n",
        "\n",
        "# Answer:11-->>>\n",
        "\n",
        "import matplotlib.pyplot as plt\n",
        "\n",
        "data1 = [10, 20, 30, 40, 50]\n",
        "data2 = [15, 25, 35, 45, 55]\n",
        "\n",
        "plt.scatter(data1, data2, color='blue')\n",
        "plt.title(\"Scatter Plot of Two Variables\")\n",
        "plt.xlabel(\"Variable 1\")\n",
        "plt.ylabel(\"Variable 2\")\n",
        "plt.show()\n"
      ],
      "metadata": {
        "colab": {
          "base_uri": "https://localhost:8080/",
          "height": 472
        },
        "id": "2m0cRAGvAh2i",
        "outputId": "5a418045-0a23-4aac-ccca-6326dbc16359"
      },
      "execution_count": null,
      "outputs": [
        {
          "output_type": "display_data",
          "data": {
            "text/plain": [
              "<Figure size 640x480 with 1 Axes>"
            ],
            "image/png": "[encoded data removed]"
          },
          "metadata": {}
        }
      ]
    },
    {
      "cell_type": "code",
      "source": [
        "# Question:12--->> Implement and compare simple random sampling and systematic sampling\n",
        "\n",
        "\n",
        "# Answer:12-->>>\n",
        "\n",
        "import random\n",
        "\n",
        "data = list(range(1, 21))  # Dataset from 1 to 20\n",
        "\n",
        "# Simple Random Sampling: randomly select 5 items\n",
        "simple_random_sample = random.sample(data, 5)\n",
        "\n",
        "# Systematic Sampling: select every 4th item starting from index 0\n",
        "systematic_sample = data[0::4]\n",
        "\n",
        "print(\"Simple Random Sample:\", simple_random_sample)\n",
        "print(\"Systematic Sample:\", systematic_sample)\n"
      ],
      "metadata": {
        "colab": {
          "base_uri": "https://localhost:8080/"
        },
        "id": "ho011a6wAotG",
        "outputId": "f1744b3b-8ad6-476a-aaba-511f8eca597f"
      },
      "execution_count": null,
      "outputs": [
        {
          "output_type": "stream",
          "name": "stdout",
          "text": [
            "Simple Random Sample: [5, 12, 2, 1, 15]\n",
            "Systematic Sample: [1, 5, 9, 13, 17]\n"
          ]
        }
      ]
    },
    {
      "cell_type": "code",
      "source": [
        "# Question:13--->> Calculate the mean, median, and mode of grouped data\n",
        "\n",
        "\n",
        "# Answer:13-->>>\n",
        "\n",
        "# For grouped data, we use class midpoints and frequencies.\n",
        "\n",
        "# Given grouped data:\n",
        "# Classes: 10-20, 20-30, 30-40, 40-50\n",
        "# Frequencies: 5, 8, 12, 5\n",
        "\n",
        "class_intervals = [(10, 20), (20, 30), (30, 40), (40, 50)]\n",
        "frequencies = [5, 8, 12, 5]\n",
        "\n",
        "# Step 1: Calculate midpoints\n",
        "midpoints = [(low + high) / 2 for (low, high) in class_intervals]\n",
        "\n",
        "# Step 2: Calculate mean\n",
        "total_freq = sum(frequencies)\n",
        "mean = sum(m * f for m, f in zip(midpoints, frequencies)) / total_freq\n",
        "\n",
        "# For median and mode of grouped data, we need cumulative frequencies and formulas.\n",
        "\n",
        "# Step 3: Cumulative frequencies\n",
        "cum_freq = []\n",
        "cumulative = 0\n",
        "for f in frequencies:\n",
        "    cumulative += f\n",
        "    cum_freq.append(cumulative)\n",
        "\n",
        "# Median class: class where cumulative frequency >= total_freq/2\n",
        "median_class_index = next(i for i, cf in enumerate(cum_freq) if cf >= total_freq/2)\n",
        "median_class = class_intervals[median_class_index]\n",
        "median_class_freq = frequencies[median_class_index]\n",
        "cf_before_median = cum_freq[median_class_index - 1] if median_class_index > 0 else 0\n",
        "class_width = median_class[1] - median_class[0]\n",
        "\n",
        "# Median calculation\n",
        "median = median_class[0] + ((total_freq/2 - cf_before_median) / median_class_freq) * class_width\n",
        "\n",
        "# Mode class: class with highest frequency\n",
        "mode_class_index = frequencies.index(max(frequencies))\n",
        "mode_class = class_intervals[mode_class_index]\n",
        "mode_class_freq = frequencies[mode_class_index]\n",
        "freq_before_mode = frequencies[mode_class_index - 1] if mode_class_index > 0 else 0\n",
        "freq_after_mode = frequencies[mode_class_index + 1] if mode_class_index < len(frequencies) - 1 else 0\n",
        "\n",
        "# Mode calculation\n",
        "mode = mode_class[0] + ((mode_class_freq - freq_before_mode) / ((mode_class_freq - freq_before_mode) + (mode_class_freq - freq_after_mode))) * class_width\n",
        "\n",
        "print(\"Mean:\", mean)\n",
        "print(\"Median:\", median)\n",
        "print(\"Mode:\", mode)\n"
      ],
      "metadata": {
        "colab": {
          "base_uri": "https://localhost:8080/"
        },
        "id": "JmX5ujYPAwO-",
        "outputId": "b311204d-0697-450f-b3b9-ed1dc4e9bc5e"
      },
      "execution_count": null,
      "outputs": [
        {
          "output_type": "stream",
          "name": "stdout",
          "text": [
            "Mean: 30.666666666666668\n",
            "Median: 31.666666666666668\n",
            "Mode: 33.63636363636364\n"
          ]
        }
      ]
    },
    {
      "cell_type": "code",
      "source": [
        "# Question:14--->> Simulate data using Python and calculate its central tendency and dispersion\n",
        "\n",
        "\n",
        "# Answer:14-->>>\n",
        "\n",
        "import numpy as np\n",
        "\n",
        "# Simulate a dataset of 100 values from a normal distribution\n",
        "data = np.random.normal(loc=60, scale=10, size=100)\n",
        "\n",
        "# Calculate central tendency\n",
        "mean = np.mean(data)\n",
        "median = np.median(data)\n",
        "# Mode needs to be approximated for continuous data, so we round for a practical estimate\n",
        "mode = np.bincount(data.astype(int)).argmax()\n",
        "\n",
        "# Calculate dispersion\n",
        "variance = np.var(data, ddof=1)\n",
        "std_dev = np.std(data, ddof=1)\n",
        "range_val = np.max(data) - np.min(data)\n",
        "\n",
        "print(\"Mean:\", mean)\n",
        "print(\"Median:\", median)\n",
        "print(\"Mode (approx):\", mode)\n",
        "print(\"Variance:\", variance)\n",
        "print(\"Standard Deviation:\", std_dev)\n",
        "print(\"Range:\", range_val)\n",
        "\n"
      ],
      "metadata": {
        "colab": {
          "base_uri": "https://localhost:8080/"
        },
        "id": "_3sxB7SKA7BK",
        "outputId": "9843efab-bda5-4abb-ef90-a80c52d6dde9"
      },
      "execution_count": null,
      "outputs": [
        {
          "output_type": "stream",
          "name": "stdout",
          "text": [
            "Mean: 61.425314607784905\n",
            "Median: 61.52728197884652\n",
            "Mode (approx): 57\n",
            "Variance: 85.54844503996354\n",
            "Standard Deviation: 9.249240241228657\n",
            "Range: 46.55803241661133\n"
          ]
        }
      ]
    },
    {
      "cell_type": "code",
      "source": [
        "# Question:15--->> Use NumPy or pandas to summarize a dataset’s descriptive statistics\n",
        "\n",
        "\n",
        "# Answer:15-->>>\n",
        "\n",
        "import pandas as pd\n",
        "\n",
        "# Create a dataset\n",
        "data = {'Scores': [55, 65, 75, 85, 95, 70, 80, 90, 100, 60]}\n",
        "\n",
        "df = pd.DataFrame(data)\n",
        "\n",
        "# Get descriptive statistics summary\n",
        "summary = df.describe()\n",
        "\n",
        "print(summary)\n"
      ],
      "metadata": {
        "colab": {
          "base_uri": "https://localhost:8080/"
        },
        "id": "gQ1W1p34BC2U",
        "outputId": "1f80ec22-fe9d-4f75-c838-8346c68887c9"
      },
      "execution_count": null,
      "outputs": [
        {
          "output_type": "stream",
          "name": "stdout",
          "text": [
            "           Scores\n",
            "count   10.000000\n",
            "mean    77.500000\n",
            "std     15.138252\n",
            "min     55.000000\n",
            "25%     66.250000\n",
            "50%     77.500000\n",
            "75%     88.750000\n",
            "max    100.000000\n"
          ]
        }
      ]
    },
    {
      "cell_type": "code",
      "source": [
        "# Question:16--->> Plot a boxplot to understand the spread and identify outliers\n",
        "\n",
        "\n",
        "# Answer:16-->>>\n",
        "\n",
        "import matplotlib.pyplot as plt\n",
        "\n",
        "data = [55, 65, 75, 85, 95, 70, 80, 90, 100, 60, 200]  # Added 200 as an outlier\n",
        "\n",
        "plt.boxplot(data)\n",
        "plt.title(\"Boxplot to show spread and outliers\")\n",
        "plt.ylabel(\"Values\")\n",
        "plt.show()\n"
      ],
      "metadata": {
        "colab": {
          "base_uri": "https://localhost:8080/",
          "height": 452
        },
        "id": "Vn-mb_JUBLNr",
        "outputId": "3b250670-f1b2-4c0e-e579-0bccfea73389"
      },
      "execution_count": null,
      "outputs": [
        {
          "output_type": "display_data",
          "data": {
            "text/plain": [
              "<Figure size 640x480 with 1 Axes>"
            ],
            "image/png": "[encoded data removed]"
          },
          "metadata": {}
        }
      ]
    },
    {
      "cell_type": "code",
      "source": [
        "# Question:17--->> Calculate the interquartile range (IQR) of a dataset\n",
        "\n",
        "\n",
        "# Answer:17-->>>\n",
        "\n",
        "import numpy as np\n",
        "\n",
        "data = [55, 65, 75, 85, 95, 70, 80, 90, 100, 60]\n",
        "\n",
        "Q1 = np.percentile(data, 25)\n",
        "Q3 = np.percentile(data, 75)\n",
        "IQR = Q3 - Q1\n",
        "\n",
        "print(\"Q1 (25th percentile):\", Q1)\n",
        "print(\"Q3 (75th percentile):\", Q3)\n",
        "print(\"Interquartile Range (IQR):\", IQR)\n"
      ],
      "metadata": {
        "colab": {
          "base_uri": "https://localhost:8080/"
        },
        "id": "1uEZj4qwBSco",
        "outputId": "da771da0-84e2-4044-8740-78d19aa5c739"
      },
      "execution_count": null,
      "outputs": [
        {
          "output_type": "stream",
          "name": "stdout",
          "text": [
            "Q1 (25th percentile): 66.25\n",
            "Q3 (75th percentile): 88.75\n",
            "Interquartile Range (IQR): 22.5\n"
          ]
        }
      ]
    },
    {
      "cell_type": "code",
      "source": [
        "# Question:18--->> Implement Z-score normalization and explain its significance\n",
        "\n",
        "\n",
        "# Answer:18-->>>\n",
        "\n",
        "import numpy as np\n",
        "\n",
        "# Sample dataset\n",
        "data = [55, 65, 75, 85, 95, 70, 80, 90, 100, 60]\n",
        "\n",
        "mean = np.mean(data)\n",
        "std_dev = np.std(data)\n",
        "\n",
        "# Z-score normalization formula: (x - mean) / std_dev\n",
        "z_scores = [(x - mean) / std_dev for x in data]\n",
        "\n",
        "print(\"Original data:\", data)\n",
        "print(\"Z-score normalized data:\", z_scores)\n",
        "\n",
        "# Significance:\n",
        "# Z-score normalization helps us understand how far each data point is from the mean,\n",
        "# measured in terms of standard deviations. It standardizes data so different datasets\n",
        "# can be compared easily, especially when they have different units or scales.\n"
      ],
      "metadata": {
        "colab": {
          "base_uri": "https://localhost:8080/"
        },
        "id": "AWrQ70cGBbyx",
        "outputId": "0e64eeac-558e-4dd3-941a-690ce9a23812"
      },
      "execution_count": null,
      "outputs": [
        {
          "output_type": "stream",
          "name": "stdout",
          "text": [
            "Original data: [55, 65, 75, 85, 95, 70, 80, 90, 100, 60]\n",
            "Z-score normalized data: [np.float64(-1.5666989036012806), np.float64(-0.8703882797784892), np.float64(-0.17407765595569785), np.float64(0.5222329678670935), np.float64(1.2185435916898848), np.float64(-0.5222329678670935), np.float64(0.17407765595569785), np.float64(0.8703882797784892), np.float64(1.5666989036012806), np.float64(-1.2185435916898848)]\n"
          ]
        }
      ]
    },
    {
      "cell_type": "code",
      "source": [
        "# Question:19--->> Compare two datasets using their standard deviations\n",
        "\n",
        "\n",
        "# Answer:19-->>>\n",
        "\n",
        "import numpy as np\n",
        "\n",
        "data1 = [55, 65, 75, 85, 95, 70, 80, 90, 100, 60]\n",
        "data2 = [30, 35, 40, 45, 50, 55, 60, 65, 70, 75]\n",
        "\n",
        "std_dev1 = np.std(data1, ddof=1)  # sample standard deviation of data1\n",
        "std_dev2 = np.std(data2, ddof=1)  # sample standard deviation of data2\n",
        "\n",
        "print(\"Standard Deviation of dataset 1:\", std_dev1)\n",
        "print(\"Standard Deviation of dataset 2:\", std_dev2)\n",
        "\n",
        "if std_dev1 > std_dev2:\n",
        "    print(\"Dataset 1 has more spread or variability than Dataset 2\")\n",
        "elif std_dev1 < std_dev2:\n",
        "    print(\"Dataset 2 has more spread or variability than Dataset 1\")\n",
        "else:\n",
        "    print(\"Both datasets have equal variability\")\n"
      ],
      "metadata": {
        "colab": {
          "base_uri": "https://localhost:8080/"
        },
        "id": "8nR_MXtOBjy0",
        "outputId": "b4bc28e3-a87f-4b01-ed6e-6f0925b9b208"
      },
      "execution_count": null,
      "outputs": [
        {
          "output_type": "stream",
          "name": "stdout",
          "text": [
            "Standard Deviation of dataset 1: 15.138251770487457\n",
            "Standard Deviation of dataset 2: 15.138251770487457\n",
            "Both datasets have equal variability\n"
          ]
        }
      ]
    },
    {
      "cell_type": "code",
      "source": [
        "# Question:20--->> Write a Python program to visualize covariance using a heatmap\n",
        "\n",
        "\n",
        "# Answer:20-->>>\n",
        "\n",
        "import numpy as np\n",
        "import seaborn as sns\n",
        "import matplotlib.pyplot as plt\n",
        "\n",
        "# Create two datasets\n",
        "data1 = np.array([10, 20, 30, 40, 50])\n",
        "data2 = np.array([15, 25, 35, 45, 55])\n",
        "\n",
        "# Combine datasets as columns in a matrix\n",
        "data = np.vstack((data1, data2))\n",
        "\n",
        "# Calculate covariance matrix\n",
        "cov_matrix = np.cov(data)\n",
        "\n",
        "# Plot heatmap\n",
        "sns.heatmap(cov_matrix, annot=True, cmap='coolwarm', xticklabels=['data1', 'data2'], yticklabels=['data1', 'data2'])\n",
        "plt.title(\"Covariance Heatmap\")\n",
        "plt.show()\n"
      ],
      "metadata": {
        "colab": {
          "base_uri": "https://localhost:8080/",
          "height": 452
        },
        "id": "4-imCYeoBq4o",
        "outputId": "da82a24b-7391-446d-ebd0-1886cbd2477f"
      },
      "execution_count": null,
      "outputs": [
        {
          "output_type": "display_data",
          "data": {
            "text/plain": [
              "<Figure size 640x480 with 2 Axes>"
            ],
            "image/png": "[encoded data removed]"
          },
          "metadata": {}
        }
      ]
    },
    {
      "cell_type": "code",
      "source": [
        "# Question:21--->> Use seaborn to create a correlation matrix for a dataset\n",
        "\n",
        "\n",
        "# Answer:21-->>>\n",
        "\n",
        "import pandas as pd\n",
        "import seaborn as sns\n",
        "import matplotlib.pyplot as plt\n",
        "\n",
        "# Sample dataset with 3 variables\n",
        "data = {\n",
        "    'Math': [85, 90, 78, 92, 88],\n",
        "    'Science': [80, 85, 75, 90, 86],\n",
        "    'English': [78, 83, 70, 88, 85]\n",
        "}\n",
        "\n",
        "df = pd.DataFrame(data)\n",
        "\n",
        "# Calculate correlation matrix\n",
        "corr_matrix = df.corr()\n",
        "\n",
        "# Plot correlation heatmap\n",
        "sns.heatmap(corr_matrix, annot=True, cmap='coolwarm')\n",
        "plt.title(\"Correlation Matrix\")\n",
        "plt.show()\n"
      ],
      "metadata": {
        "colab": {
          "base_uri": "https://localhost:8080/",
          "height": 452
        },
        "id": "GbCvgQDmBxpQ",
        "outputId": "1a09f3da-4aee-4d8f-baf6-ea0f0c57c7a6"
      },
      "execution_count": null,
      "outputs": [
        {
          "output_type": "display_data",
          "data": {
            "text/plain": [
              "<Figure size 640x480 with 2 Axes>"
            ],
            "image/png": "[encoded data removed]"
          },
          "metadata": {}
        }
      ]
    },
    {
      "cell_type": "code",
      "source": [
        "# Question:22--->> Generate a dataset and implement both variance and standard deviation computations\n",
        "\n",
        "\n",
        "# Answer:22-->>>\n",
        "\n",
        "import numpy as np\n",
        "\n",
        "# Generate random dataset of 20 numbers with mean 50 and std deviation 15\n",
        "data = np.random.normal(50, 15, 20)\n",
        "\n",
        "# Calculate variance (sample)\n",
        "variance = np.var(data, ddof=1)\n",
        "\n",
        "# Calculate standard deviation (sample)\n",
        "std_dev = np.std(data, ddof=1)\n",
        "\n",
        "print(\"Data:\", data)\n",
        "print(\"Variance:\", variance)\n",
        "print(\"Standard Deviation:\", std_dev)\n"
      ],
      "metadata": {
        "colab": {
          "base_uri": "https://localhost:8080/"
        },
        "id": "zPYPMoTGB5MK",
        "outputId": "ac5e4fb2-d948-4276-96d3-e87fc1342d52"
      },
      "execution_count": null,
      "outputs": [
        {
          "output_type": "stream",
          "name": "stdout",
          "text": [
            "Data: [30.56358574 79.52626479 59.85293533 72.0062504  72.55993486 64.61755129\n",
            " 60.91747995 53.05347772 26.12926708 48.49296545 61.61446928 45.45335275\n",
            " 54.72384951 29.37410604 54.46027438 56.04941254 48.15760423 50.23755961\n",
            " 50.05393133 59.30359013]\n",
            "Variance: 195.072211681261\n",
            "Standard Deviation: 13.96682539739296\n"
          ]
        }
      ]
    },
    {
      "cell_type": "code",
      "source": [
        "# Question:23--->> Visualize skewness and kurtosis using Python libraries like matplotlib or seaborn\n",
        "\n",
        "\n",
        "# Answer:23-->>>\n",
        "\n",
        "import numpy as np\n",
        "import matplotlib.pyplot as plt\n",
        "import seaborn as sns\n",
        "from scipy.stats import skew, kurtosis\n",
        "\n",
        "# Generate dataset with some skewness\n",
        "data = np.random.gamma(shape=2, scale=2, size=1000)\n",
        "\n",
        "# Calculate skewness and kurtosis\n",
        "data_skewness = skew(data)\n",
        "data_kurtosis = kurtosis(data)\n",
        "\n",
        "# Plot histogram to visualize distribution shape\n",
        "sns.histplot(data, bins=30, kde=True)\n",
        "plt.title(f\"Histogram with Skewness={data_skewness:.2f} and Kurtosis={data_kurtosis:.2f}\")\n",
        "plt.xlabel(\"Data values\")\n",
        "plt.ylabel(\"Frequency\")\n",
        "plt.show()\n"
      ],
      "metadata": {
        "colab": {
          "base_uri": "https://localhost:8080/",
          "height": 472
        },
        "id": "C1bWk_5HCfRj",
        "outputId": "bb8003be-3758-4e2d-e8cd-e987f8dd0607"
      },
      "execution_count": null,
      "outputs": [
        {
          "output_type": "display_data",
          "data": {
            "text/plain": [
              "<Figure size 640x480 with 1 Axes>"
            ],
            "image/png": "[encoded data removed]"
          },
          "metadata": {}
        }
      ]
    },
    {
      "cell_type": "code",
      "source": [
        "# Question:24--->> Implement the Pearson and Spearman correlation coefficients for a dataset\n",
        "\n",
        "\n",
        "# Answer:24-->>>\n",
        "\n",
        "import numpy as np\n",
        "import pandas as pd\n",
        "from scipy.stats import pearsonr, spearmanr\n",
        "\n",
        "# Sample datasets\n",
        "data1 = [10, 20, 30, 40, 50, 60, 70]\n",
        "data2 = [15, 25, 35, 45, 55, 65, 75]\n",
        "\n",
        "# Calculate Pearson correlation coefficient\n",
        "pearson_corr, _ = pearsonr(data1, data2)\n",
        "\n",
        "# Calculate Spearman correlation coefficient\n",
        "spearman_corr, _ = spearmanr(data1, data2)\n",
        "\n",
        "print(\"Pearson Correlation Coefficient:\", pearson_corr)\n",
        "print(\"Spearman Correlation Coefficient:\", spearman_corr)\n"
      ],
      "metadata": {
        "colab": {
          "base_uri": "https://localhost:8080/"
        },
        "id": "YoRRrzN2Cosm",
        "outputId": "6b7e5b6f-7eda-4451-db0e-210e8089bde5"
      },
      "execution_count": null,
      "outputs": [
        {
          "output_type": "stream",
          "name": "stdout",
          "text": [
            "Pearson Correlation Coefficient: 1.0\n",
            "Spearman Correlation Coefficient: 1.0\n"
          ]
        }
      ]
    }
  ]
}